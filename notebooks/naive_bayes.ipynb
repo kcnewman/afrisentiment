{
 "cells": [
  {
   "cell_type": "markdown",
   "id": "37b47c0e",
   "metadata": {},
   "source": [
    "# Dependencies\n"
   ]
  },
  {
   "cell_type": "code",
   "execution_count": 58,
   "id": "30eabeb6",
   "metadata": {},
   "outputs": [],
   "source": [
    "import sys\n",
    "\n",
    "sys.path.append(\"../\")\n",
    "\n",
    "import pandas as pd\n",
    "import numpy as np\n",
    "from sklearn.preprocessing import LabelEncoder\n",
    "from sklearn.metrics import f1_score\n",
    "from src.utils import (\n",
    "    build_freqs,\n",
    "    train_naive_bayes,\n",
    "    predict_naive_bayes,\n",
    "    cross_validation,\n",
    ")"
   ]
  },
  {
   "cell_type": "markdown",
   "id": "d75434ca",
   "metadata": {},
   "source": [
    "# Preprocessing\n"
   ]
  },
  {
   "cell_type": "code",
   "execution_count": 42,
   "id": "95de4933",
   "metadata": {},
   "outputs": [
    {
     "data": {
      "text/html": [
       "<div>\n",
       "<style scoped>\n",
       "    .dataframe tbody tr th:only-of-type {\n",
       "        vertical-align: middle;\n",
       "    }\n",
       "\n",
       "    .dataframe tbody tr th {\n",
       "        vertical-align: top;\n",
       "    }\n",
       "\n",
       "    .dataframe thead th {\n",
       "        text-align: right;\n",
       "    }\n",
       "</style>\n",
       "<table border=\"1\" class=\"dataframe\">\n",
       "  <thead>\n",
       "    <tr style=\"text-align: right;\">\n",
       "      <th></th>\n",
       "      <th>tweet</th>\n",
       "      <th>label</th>\n",
       "    </tr>\n",
       "  </thead>\n",
       "  <tbody>\n",
       "    <tr>\n",
       "      <th>0</th>\n",
       "      <td>kako be shark but wo ti ewu</td>\n",
       "      <td>negative</td>\n",
       "    </tr>\n",
       "    <tr>\n",
       "      <th>1</th>\n",
       "      <td>br ne bayie nti na me supporti man city</td>\n",
       "      <td>negative</td>\n",
       "    </tr>\n",
       "    <tr>\n",
       "      <th>2</th>\n",
       "      <td>s3 woofis3 mada wafutuo tantan no 3y3wo s3mafa...</td>\n",
       "      <td>negative</td>\n",
       "    </tr>\n",
       "    <tr>\n",
       "      <th>3</th>\n",
       "      <td>wabɔdam anaa wo trumu yɛ nkate nkwan aseɛ</td>\n",
       "      <td>negative</td>\n",
       "    </tr>\n",
       "    <tr>\n",
       "      <th>4</th>\n",
       "      <td>enfa bi da bra 🤣🤣</td>\n",
       "      <td>negative</td>\n",
       "    </tr>\n",
       "  </tbody>\n",
       "</table>\n",
       "</div>"
      ],
      "text/plain": [
       "                                               tweet     label\n",
       "0                        kako be shark but wo ti ewu  negative\n",
       "1            br ne bayie nti na me supporti man city  negative\n",
       "2  s3 woofis3 mada wafutuo tantan no 3y3wo s3mafa...  negative\n",
       "3          wabɔdam anaa wo trumu yɛ nkate nkwan aseɛ  negative\n",
       "4                                  enfa bi da bra 🤣🤣  negative"
      ]
     },
     "execution_count": 42,
     "metadata": {},
     "output_type": "execute_result"
    }
   ],
   "source": [
    "df = pd.read_csv(\"../data/raw/masakhane_afrisenti_twi_train.csv\")\n",
    "df.head()"
   ]
  },
  {
   "cell_type": "code",
   "execution_count": 43,
   "id": "d880916e",
   "metadata": {},
   "outputs": [
    {
     "name": "stdout",
     "output_type": "stream",
     "text": [
      "['negative' 'neutral' 'positive']\n"
     ]
    }
   ],
   "source": [
    "encoder = LabelEncoder()\n",
    "df[\"sentiment\"] = encoder.fit_transform(df[\"label\"])\n",
    "print(encoder.classes_)"
   ]
  },
  {
   "cell_type": "code",
   "execution_count": 44,
   "id": "8a14a939",
   "metadata": {},
   "outputs": [
    {
     "data": {
      "text/html": [
       "<div>\n",
       "<style scoped>\n",
       "    .dataframe tbody tr th:only-of-type {\n",
       "        vertical-align: middle;\n",
       "    }\n",
       "\n",
       "    .dataframe tbody tr th {\n",
       "        vertical-align: top;\n",
       "    }\n",
       "\n",
       "    .dataframe thead th {\n",
       "        text-align: right;\n",
       "    }\n",
       "</style>\n",
       "<table border=\"1\" class=\"dataframe\">\n",
       "  <thead>\n",
       "    <tr style=\"text-align: right;\">\n",
       "      <th></th>\n",
       "      <th>tweet</th>\n",
       "      <th>label</th>\n",
       "      <th>sentiment</th>\n",
       "    </tr>\n",
       "  </thead>\n",
       "  <tbody>\n",
       "    <tr>\n",
       "      <th>0</th>\n",
       "      <td>kako be shark but wo ti ewu</td>\n",
       "      <td>negative</td>\n",
       "      <td>0</td>\n",
       "    </tr>\n",
       "    <tr>\n",
       "      <th>1</th>\n",
       "      <td>br ne bayie nti na me supporti man city</td>\n",
       "      <td>negative</td>\n",
       "      <td>0</td>\n",
       "    </tr>\n",
       "    <tr>\n",
       "      <th>2</th>\n",
       "      <td>s3 woofis3 mada wafutuo tantan no 3y3wo s3mafa...</td>\n",
       "      <td>negative</td>\n",
       "      <td>0</td>\n",
       "    </tr>\n",
       "    <tr>\n",
       "      <th>3</th>\n",
       "      <td>wabɔdam anaa wo trumu yɛ nkate nkwan aseɛ</td>\n",
       "      <td>negative</td>\n",
       "      <td>0</td>\n",
       "    </tr>\n",
       "    <tr>\n",
       "      <th>4</th>\n",
       "      <td>enfa bi da bra 🤣🤣</td>\n",
       "      <td>negative</td>\n",
       "      <td>0</td>\n",
       "    </tr>\n",
       "  </tbody>\n",
       "</table>\n",
       "</div>"
      ],
      "text/plain": [
       "                                               tweet     label  sentiment\n",
       "0                        kako be shark but wo ti ewu  negative          0\n",
       "1            br ne bayie nti na me supporti man city  negative          0\n",
       "2  s3 woofis3 mada wafutuo tantan no 3y3wo s3mafa...  negative          0\n",
       "3          wabɔdam anaa wo trumu yɛ nkate nkwan aseɛ  negative          0\n",
       "4                                  enfa bi da bra 🤣🤣  negative          0"
      ]
     },
     "execution_count": 44,
     "metadata": {},
     "output_type": "execute_result"
    }
   ],
   "source": [
    "df.head()"
   ]
  },
  {
   "cell_type": "markdown",
   "id": "269835c3",
   "metadata": {},
   "source": [
    "# Model Training\n"
   ]
  },
  {
   "cell_type": "code",
   "execution_count": 45,
   "id": "1b1e35f2",
   "metadata": {},
   "outputs": [],
   "source": [
    "train_x = df[\"tweet\"]\n",
    "train_y = df[\"sentiment\"]"
   ]
  },
  {
   "cell_type": "code",
   "execution_count": 46,
   "id": "478cb581",
   "metadata": {},
   "outputs": [],
   "source": [
    "freqs = build_freqs(train_x, train_y)"
   ]
  },
  {
   "cell_type": "code",
   "execution_count": 47,
   "id": "3282d1a1",
   "metadata": {},
   "outputs": [],
   "source": [
    "logprior, loglikelihood, vocab, classes = train_naive_bayes(freqs, train_x, train_y)"
   ]
  },
  {
   "cell_type": "markdown",
   "id": "897f8675",
   "metadata": {},
   "source": [
    "# Model Prediction\n"
   ]
  },
  {
   "cell_type": "code",
   "execution_count": 48,
   "id": "5299370e",
   "metadata": {},
   "outputs": [
    {
     "name": "stdout",
     "output_type": "stream",
     "text": [
      "negative\n"
     ]
    }
   ],
   "source": [
    "text = \"3kom\"\n",
    "\n",
    "pred = predict_naive_bayes(text, logprior, loglikelihood, vocab, classes)\n",
    "print(pred)"
   ]
  },
  {
   "cell_type": "markdown",
   "id": "71301b93",
   "metadata": {},
   "source": [
    "# Model Validation\n"
   ]
  },
  {
   "cell_type": "code",
   "execution_count": 49,
   "id": "9f4307c0",
   "metadata": {},
   "outputs": [],
   "source": [
    "df2 = pd.read_csv(\"../data/raw/masakhane_afrisenti_twi_validation.csv\")\n",
    "df2[\"sentiment\"] = encoder.fit_transform(df2[\"label\"])\n",
    "val_x = df2[\"tweet\"]\n",
    "val_y = df2[\"sentiment\"]"
   ]
  },
  {
   "cell_type": "code",
   "execution_count": null,
   "id": "c56b8511",
   "metadata": {},
   "outputs": [],
   "source": [
    "alphas = [0.1, 0.01, 0.2, 0.02, 0.3, 0.03, 0.4, 0.04, 0.5, 0.05]\n",
    "best_alpha, sc = cross_validation(train_x, train_y, val_x, val_y, alphas)"
   ]
  },
  {
   "cell_type": "markdown",
   "id": "258b6422",
   "metadata": {},
   "source": [
    "# Retraining Using CV + Train set\n"
   ]
  },
  {
   "cell_type": "code",
   "execution_count": null,
   "id": "fb3eedfb",
   "metadata": {},
   "outputs": [],
   "source": [
    "full_train_x = np.concatenate([train_x, val_x])\n",
    "full_train_y = np.concatenate([train_y, val_y])"
   ]
  },
  {
   "cell_type": "code",
   "execution_count": null,
   "id": "91354858",
   "metadata": {},
   "outputs": [],
   "source": [
    "freqs_full = build_freqs(full_train_x, full_train_y)"
   ]
  },
  {
   "cell_type": "code",
   "execution_count": null,
   "id": "9dffc01a",
   "metadata": {},
   "outputs": [],
   "source": [
    "logprior_f, loglikelihood_f, vocab_f, classes_f = train_naive_bayes(\n",
    "    freqs_full, full_train_x, full_train_y, alpha=0.05\n",
    ")"
   ]
  },
  {
   "cell_type": "markdown",
   "id": "a91c933b",
   "metadata": {},
   "source": [
    "# Test and Evaluation"
   ]
  },
  {
   "cell_type": "code",
   "execution_count": 57,
   "id": "59818e58",
   "metadata": {},
   "outputs": [],
   "source": [
    "df3 = pd.read_csv(\"../data/raw/masakhane_afrisenti_twi_test.csv\")\n",
    "df3[\"sentiment\"] = encoder.fit_transform(df3[\"label\"])\n",
    "test_x = df3[\"tweet\"]\n",
    "test_y = df3[\"sentiment\"]"
   ]
  },
  {
   "cell_type": "code",
   "execution_count": 61,
   "id": "c38b3a28",
   "metadata": {},
   "outputs": [
    {
     "data": {
      "text/plain": [
       "0.5257571836352044"
      ]
     },
     "execution_count": 61,
     "metadata": {},
     "output_type": "execute_result"
    }
   ],
   "source": [
    "test_preds = [predict_naive_bayes(text,logprior_f,loglikelihood_f,vocab_f,classes_f) for text in test_x]\n",
    "test_preds_enc = encoder.transform(test_preds)\n",
    "f1_f = f1_score(test_y, test_preds_enc, average='macro')\n",
    "f1_f"
   ]
  }
 ],
 "metadata": {
  "kernelspec": {
   "display_name": "mlp",
   "language": "python",
   "name": "python3"
  },
  "language_info": {
   "codemirror_mode": {
    "name": "ipython",
    "version": 3
   },
   "file_extension": ".py",
   "mimetype": "text/x-python",
   "name": "python",
   "nbconvert_exporter": "python",
   "pygments_lexer": "ipython3",
   "version": "3.13.2"
  }
 },
 "nbformat": 4,
 "nbformat_minor": 5
}
