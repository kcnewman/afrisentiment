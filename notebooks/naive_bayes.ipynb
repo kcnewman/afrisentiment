{
 "cells": [
  {
   "cell_type": "markdown",
   "id": "37b47c0e",
   "metadata": {},
   "source": [
    "# Dependencies\n"
   ]
  },
  {
   "cell_type": "code",
   "execution_count": 8,
   "id": "30eabeb6",
   "metadata": {},
   "outputs": [],
   "source": [
    "import sys\n",
    "sys.path.append(\"../\")\n",
    "\n",
    "import pandas as pd\n",
    "import numpy as np\n",
    "from sklearn.metrics import (\n",
    "    f1_score,\n",
    "    accuracy_score,\n",
    "    confusion_matrix,\n",
    "    ConfusionMatrixDisplay,\n",
    ")\n",
    "from sklearn.preprocessing import LabelEncoder\n",
    "from src.utils import (\n",
    "    build_freqs,\n",
    "    train_naive_bayes,\n",
    "    predict_naive_bayes,\n",
    "    cross_validation,\n",
    ")\n",
    "encoder = LabelEncoder()"
   ]
  },
  {
   "cell_type": "markdown",
   "id": "d75434ca",
   "metadata": {},
   "source": [
    "# Preprocessing\n"
   ]
  },
  {
   "cell_type": "code",
   "execution_count": null,
   "id": "95de4933",
   "metadata": {},
   "outputs": [
    {
     "data": {
      "text/html": [
       "<div>\n",
       "<style scoped>\n",
       "    .dataframe tbody tr th:only-of-type {\n",
       "        vertical-align: middle;\n",
       "    }\n",
       "\n",
       "    .dataframe tbody tr th {\n",
       "        vertical-align: top;\n",
       "    }\n",
       "\n",
       "    .dataframe thead th {\n",
       "        text-align: right;\n",
       "    }\n",
       "</style>\n",
       "<table border=\"1\" class=\"dataframe\">\n",
       "  <thead>\n",
       "    <tr style=\"text-align: right;\">\n",
       "      <th></th>\n",
       "      <th>tweet</th>\n",
       "      <th>label</th>\n",
       "      <th>sentiment</th>\n",
       "    </tr>\n",
       "  </thead>\n",
       "  <tbody>\n",
       "    <tr>\n",
       "      <th>0</th>\n",
       "      <td>kako be shark but wo ti ewu</td>\n",
       "      <td>negative</td>\n",
       "      <td>0</td>\n",
       "    </tr>\n",
       "    <tr>\n",
       "      <th>1</th>\n",
       "      <td>br ne bayie nti na me supporti man city</td>\n",
       "      <td>negative</td>\n",
       "      <td>0</td>\n",
       "    </tr>\n",
       "    <tr>\n",
       "      <th>2</th>\n",
       "      <td>s3 woofis3 mada wafutuo tantan no 3y3wo s3mafa...</td>\n",
       "      <td>negative</td>\n",
       "      <td>0</td>\n",
       "    </tr>\n",
       "    <tr>\n",
       "      <th>3</th>\n",
       "      <td>wabɔdam anaa wo trumu yɛ nkate nkwan aseɛ</td>\n",
       "      <td>negative</td>\n",
       "      <td>0</td>\n",
       "    </tr>\n",
       "    <tr>\n",
       "      <th>4</th>\n",
       "      <td>enfa bi da bra 🤣🤣</td>\n",
       "      <td>negative</td>\n",
       "      <td>0</td>\n",
       "    </tr>\n",
       "  </tbody>\n",
       "</table>\n",
       "</div>"
      ],
      "text/plain": [
       "                                               tweet     label  sentiment\n",
       "0                        kako be shark but wo ti ewu  negative          0\n",
       "1            br ne bayie nti na me supporti man city  negative          0\n",
       "2  s3 woofis3 mada wafutuo tantan no 3y3wo s3mafa...  negative          0\n",
       "3          wabɔdam anaa wo trumu yɛ nkate nkwan aseɛ  negative          0\n",
       "4                                  enfa bi da bra 🤣🤣  negative          0"
      ]
     },
     "execution_count": 9,
     "metadata": {},
     "output_type": "execute_result"
    }
   ],
   "source": [
    "df = pd.read_csv(\"../data/preprocessed/masakhane_afrisenti_twi_train_preprocessed.csv\")\n",
    "df.head()"
   ]
  },
  {
   "cell_type": "markdown",
   "id": "269835c3",
   "metadata": {},
   "source": [
    "# Model Training\n"
   ]
  },
  {
   "cell_type": "code",
   "execution_count": 10,
   "id": "1b1e35f2",
   "metadata": {},
   "outputs": [],
   "source": [
    "train_x = df[\"tweet\"]\n",
    "train_y = df[\"sentiment\"]"
   ]
  },
  {
   "cell_type": "code",
   "execution_count": 11,
   "id": "478cb581",
   "metadata": {},
   "outputs": [],
   "source": [
    "freqs = build_freqs(train_x, train_y)"
   ]
  },
  {
   "cell_type": "code",
   "execution_count": 12,
   "id": "3282d1a1",
   "metadata": {},
   "outputs": [],
   "source": [
    "logprior, loglikelihood, vocab, classes = train_naive_bayes(freqs, train_x, train_y)"
   ]
  },
  {
   "cell_type": "markdown",
   "id": "897f8675",
   "metadata": {},
   "source": [
    "# Model Prediction\n"
   ]
  },
  {
   "cell_type": "code",
   "execution_count": 13,
   "id": "5299370e",
   "metadata": {},
   "outputs": [
    {
     "name": "stdout",
     "output_type": "stream",
     "text": [
      "negative\n"
     ]
    }
   ],
   "source": [
    "text = \"3kom\"\n",
    "\n",
    "pred = predict_naive_bayes(text, logprior, loglikelihood, vocab, classes)\n",
    "print(pred)"
   ]
  },
  {
   "cell_type": "markdown",
   "id": "71301b93",
   "metadata": {},
   "source": [
    "# Model Validation\n"
   ]
  },
  {
   "cell_type": "code",
   "execution_count": null,
   "id": "9f4307c0",
   "metadata": {},
   "outputs": [],
   "source": [
    "df2 = pd.read_csv(\"../data/raw/masakhane_afrisenti_twi_validation.csv\")\n",
    "df2[\"sentiment\"] = encoder.fit_transform(df2[\"label\"])\n",
    "val_x = df2[\"tweet\"]\n",
    "val_y = df2[\"sentiment\"]"
   ]
  },
  {
   "cell_type": "code",
   "execution_count": 15,
   "id": "c56b8511",
   "metadata": {},
   "outputs": [],
   "source": [
    "alphas = [0.1, 0.01, 0.2, 0.02, 0.3, 0.03, 0.4, 0.04, 0.5, 0.05]\n",
    "best_alpha, sc = cross_validation(train_x, train_y, val_x, val_y, alphas)"
   ]
  },
  {
   "cell_type": "markdown",
   "id": "258b6422",
   "metadata": {},
   "source": [
    "# Retraining Using CV + Train set\n"
   ]
  },
  {
   "cell_type": "code",
   "execution_count": 16,
   "id": "fb3eedfb",
   "metadata": {},
   "outputs": [],
   "source": [
    "full_train_x = np.concatenate([train_x, val_x])\n",
    "full_train_y = np.concatenate([train_y, val_y])"
   ]
  },
  {
   "cell_type": "code",
   "execution_count": 17,
   "id": "91354858",
   "metadata": {},
   "outputs": [],
   "source": [
    "freqs_full = build_freqs(full_train_x, full_train_y)"
   ]
  },
  {
   "cell_type": "code",
   "execution_count": 18,
   "id": "9dffc01a",
   "metadata": {},
   "outputs": [],
   "source": [
    "logprior_f, loglikelihood_f, vocab_f, classes_f = train_naive_bayes(\n",
    "    freqs_full, full_train_x, full_train_y, alpha=0.05\n",
    ")"
   ]
  },
  {
   "cell_type": "markdown",
   "id": "a91c933b",
   "metadata": {},
   "source": [
    "# Test and Evaluation\n"
   ]
  },
  {
   "cell_type": "code",
   "execution_count": null,
   "id": "59818e58",
   "metadata": {},
   "outputs": [],
   "source": [
    "df3 = pd.read_csv(\"../data/raw/masakhane_afrisenti_twi_test.csv\")\n",
    "df3[\"sentiment\"] = encoder.fit_transform(df3[\"label\"])\n",
    "test_x = df3[\"tweet\"]\n",
    "test_y = df3[\"sentiment\"]"
   ]
  },
  {
   "cell_type": "code",
   "execution_count": 20,
   "id": "c38b3a28",
   "metadata": {},
   "outputs": [
    {
     "ename": "NotFittedError",
     "evalue": "This LabelEncoder instance is not fitted yet. Call 'fit' with appropriate arguments before using this estimator.",
     "output_type": "error",
     "traceback": [
      "\u001b[31m---------------------------------------------------------------------------\u001b[39m",
      "\u001b[31mNotFittedError\u001b[39m                            Traceback (most recent call last)",
      "\u001b[36mCell\u001b[39m\u001b[36m \u001b[39m\u001b[32mIn[20]\u001b[39m\u001b[32m, line 5\u001b[39m\n\u001b[32m      1\u001b[39m test_preds = [\n\u001b[32m      2\u001b[39m     predict_naive_bayes(text, logprior_f, loglikelihood_f, vocab_f, classes_f)\n\u001b[32m      3\u001b[39m     \u001b[38;5;28;01mfor\u001b[39;00m text \u001b[38;5;129;01min\u001b[39;00m test_x\n\u001b[32m      4\u001b[39m ]\n\u001b[32m----> \u001b[39m\u001b[32m5\u001b[39m test_preds_enc = encoder.transform(test_preds)\n\u001b[32m      6\u001b[39m f1_f = f1_score(test_y, test_preds_enc, average=\u001b[33m\"\u001b[39m\u001b[33mmacro\u001b[39m\u001b[33m\"\u001b[39m)\n\u001b[32m      7\u001b[39m f1_f\n",
      "\u001b[36mFile \u001b[39m\u001b[32mc:\\Users\\os\\miniconda3\\envs\\mlp\\Lib\\site-packages\\sklearn\\preprocessing\\_label.py:127\u001b[39m, in \u001b[36mLabelEncoder.transform\u001b[39m\u001b[34m(self, y)\u001b[39m\n\u001b[32m    114\u001b[39m \u001b[38;5;28;01mdef\u001b[39;00m\u001b[38;5;250m \u001b[39m\u001b[34mtransform\u001b[39m(\u001b[38;5;28mself\u001b[39m, y):\n\u001b[32m    115\u001b[39m \u001b[38;5;250m    \u001b[39m\u001b[33;03m\"\"\"Transform labels to normalized encoding.\u001b[39;00m\n\u001b[32m    116\u001b[39m \n\u001b[32m    117\u001b[39m \u001b[33;03m    Parameters\u001b[39;00m\n\u001b[32m   (...)\u001b[39m\u001b[32m    125\u001b[39m \u001b[33;03m        Labels as normalized encodings.\u001b[39;00m\n\u001b[32m    126\u001b[39m \u001b[33;03m    \"\"\"\u001b[39;00m\n\u001b[32m--> \u001b[39m\u001b[32m127\u001b[39m     check_is_fitted(\u001b[38;5;28mself\u001b[39m)\n\u001b[32m    128\u001b[39m     xp, _ = get_namespace(y)\n\u001b[32m    129\u001b[39m     y = column_or_1d(y, dtype=\u001b[38;5;28mself\u001b[39m.classes_.dtype, warn=\u001b[38;5;28;01mTrue\u001b[39;00m)\n",
      "\u001b[36mFile \u001b[39m\u001b[32mc:\\Users\\os\\miniconda3\\envs\\mlp\\Lib\\site-packages\\sklearn\\utils\\validation.py:1757\u001b[39m, in \u001b[36mcheck_is_fitted\u001b[39m\u001b[34m(estimator, attributes, msg, all_or_any)\u001b[39m\n\u001b[32m   1754\u001b[39m     \u001b[38;5;28;01mreturn\u001b[39;00m\n\u001b[32m   1756\u001b[39m \u001b[38;5;28;01mif\u001b[39;00m \u001b[38;5;129;01mnot\u001b[39;00m _is_fitted(estimator, attributes, all_or_any):\n\u001b[32m-> \u001b[39m\u001b[32m1757\u001b[39m     \u001b[38;5;28;01mraise\u001b[39;00m NotFittedError(msg % {\u001b[33m\"\u001b[39m\u001b[33mname\u001b[39m\u001b[33m\"\u001b[39m: \u001b[38;5;28mtype\u001b[39m(estimator).\u001b[34m__name__\u001b[39m})\n",
      "\u001b[31mNotFittedError\u001b[39m: This LabelEncoder instance is not fitted yet. Call 'fit' with appropriate arguments before using this estimator."
     ]
    }
   ],
   "source": [
    "test_preds = [\n",
    "    predict_naive_bayes(text, logprior_f, loglikelihood_f, vocab_f, classes_f)\n",
    "    for text in test_x\n",
    "]\n",
    "test_preds_enc = encoder.transform(test_preds)\n",
    "f1_f = f1_score(test_y, test_preds_enc, average=\"macro\")\n",
    "f1_f"
   ]
  },
  {
   "cell_type": "code",
   "execution_count": null,
   "id": "8bbeaf9e",
   "metadata": {},
   "outputs": [
    {
     "name": "stdout",
     "output_type": "stream",
     "text": [
      "Accuracy: 0.6269757639620653\n"
     ]
    },
    {
     "data": {
      "text/plain": [
       "<sklearn.metrics._plot.confusion_matrix.ConfusionMatrixDisplay at 0x2345c38f8c0>"
      ]
     },
     "execution_count": 63,
     "metadata": {},
     "output_type": "execute_result"
    },
    {
     "data": {
      "image/png": "[encoded data removed]",
      "text/plain": [
       "<Figure size 640x480 with 2 Axes>"
      ]
     },
     "metadata": {},
     "output_type": "display_data"
    }
   ],
   "source": [
    "acc = accuracy_score(test_y, test_preds_enc)\n",
    "print(\"Accuracy:\", acc)\n",
    "\n",
    "cm = confusion_matrix(test_y, test_preds_enc)\n",
    "disp = ConfusionMatrixDisplay(confusion_matrix=cm, display_labels=encoder.classes_)\n",
    "disp.plot(cmap=\"Blues\")\n"
   ]
  },
  {
   "cell_type": "code",
   "execution_count": null,
   "id": "0583ad72",
   "metadata": {},
   "outputs": [],
   "source": []
  }
 ],
 "metadata": {
  "kernelspec": {
   "display_name": "mlp",
   "language": "python",
   "name": "python3"
  },
  "language_info": {
   "codemirror_mode": {
    "name": "ipython",
    "version": 3
   },
   "file_extension": ".py",
   "mimetype": "text/x-python",
   "name": "python",
   "nbconvert_exporter": "python",
   "pygments_lexer": "ipython3",
   "version": "3.13.2"
  }
 },
 "nbformat": 4,
 "nbformat_minor": 5
}
